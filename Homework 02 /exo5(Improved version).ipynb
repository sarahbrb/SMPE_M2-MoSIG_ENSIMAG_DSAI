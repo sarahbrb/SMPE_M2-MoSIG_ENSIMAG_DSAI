{
 "cells": [
  {
   "cell_type": "markdown",
   "metadata": {},
   "source": [
    "# Analysis of the risk of failure of the Challenger shuttle O-rings"
   ]
  },
  {
   "cell_type": "markdown",
   "metadata": {},
   "source": [
    "## I. First attempt of Improvement"
   ]
  },
  {
   "cell_type": "markdown",
   "metadata": {},
   "source": [
    "The original paper shows commendable efforts to understand the risk of O-ring failure, but some errors in reasoning led to an underestimation of the risk. We will try to improve some aspects of the analysis to provide more reliable results."
   ]
  },
  {
   "cell_type": "markdown",
   "metadata": {},
   "source": [
    "### Importing necessary libraries"
   ]
  },
  {
   "cell_type": "code",
   "execution_count": 22,
   "metadata": {},
   "outputs": [],
   "source": [
    "import numpy as np\n",
    "import pandas as pd\n",
    "import statsmodels.api as sm\n",
    "import matplotlib.pyplot as plt"
   ]
  },
  {
   "cell_type": "markdown",
   "metadata": {},
   "source": [
    "### Loading data\n",
    "Data from previous spaceflights, including temperatures, number of O-rings observed, and number of malfunctions, are loaded into a DataFrame data."
   ]
  },
  {
   "cell_type": "code",
   "execution_count": 23,
   "metadata": {},
   "outputs": [],
   "source": [
    "data = pd.read_csv(\"shuttle.csv\")"
   ]
  },
  {
   "cell_type": "markdown",
   "metadata": {},
   "source": [
    "### Graphical data inspection"
   ]
  },
  {
   "cell_type": "markdown",
   "metadata": {},
   "source": [
    "#### Calculation of failure frequency\n",
    "The \"failure frequency\" of O-rings for each flight is calculated by dividing the number of observed malfunctions (Malfunction) by the total number of O-rings tested (Count). This gives an idea of ​​the proportion of seals that failed during each flight."
   ]
  },
  {
   "cell_type": "code",
   "execution_count": 24,
   "metadata": {},
   "outputs": [
    {
     "data": {
      "text/html": [
       "<div>\n",
       "<style scoped>\n",
       "    .dataframe tbody tr th:only-of-type {\n",
       "        vertical-align: middle;\n",
       "    }\n",
       "\n",
       "    .dataframe tbody tr th {\n",
       "        vertical-align: top;\n",
       "    }\n",
       "\n",
       "    .dataframe thead th {\n",
       "        text-align: right;\n",
       "    }\n",
       "</style>\n",
       "<table border=\"1\" class=\"dataframe\">\n",
       "  <thead>\n",
       "    <tr style=\"text-align: right;\">\n",
       "      <th></th>\n",
       "      <th>Date</th>\n",
       "      <th>Count</th>\n",
       "      <th>Temperature</th>\n",
       "      <th>Pressure</th>\n",
       "      <th>Malfunction</th>\n",
       "      <th>Frequency</th>\n",
       "    </tr>\n",
       "  </thead>\n",
       "  <tbody>\n",
       "    <tr>\n",
       "      <th>0</th>\n",
       "      <td>4/12/81</td>\n",
       "      <td>6</td>\n",
       "      <td>66</td>\n",
       "      <td>50</td>\n",
       "      <td>0</td>\n",
       "      <td>0.000000</td>\n",
       "    </tr>\n",
       "    <tr>\n",
       "      <th>1</th>\n",
       "      <td>11/12/81</td>\n",
       "      <td>6</td>\n",
       "      <td>70</td>\n",
       "      <td>50</td>\n",
       "      <td>1</td>\n",
       "      <td>0.166667</td>\n",
       "    </tr>\n",
       "    <tr>\n",
       "      <th>2</th>\n",
       "      <td>3/22/82</td>\n",
       "      <td>6</td>\n",
       "      <td>69</td>\n",
       "      <td>50</td>\n",
       "      <td>0</td>\n",
       "      <td>0.000000</td>\n",
       "    </tr>\n",
       "    <tr>\n",
       "      <th>3</th>\n",
       "      <td>11/11/82</td>\n",
       "      <td>6</td>\n",
       "      <td>68</td>\n",
       "      <td>50</td>\n",
       "      <td>0</td>\n",
       "      <td>0.000000</td>\n",
       "    </tr>\n",
       "    <tr>\n",
       "      <th>4</th>\n",
       "      <td>4/04/83</td>\n",
       "      <td>6</td>\n",
       "      <td>67</td>\n",
       "      <td>50</td>\n",
       "      <td>0</td>\n",
       "      <td>0.000000</td>\n",
       "    </tr>\n",
       "    <tr>\n",
       "      <th>5</th>\n",
       "      <td>6/18/82</td>\n",
       "      <td>6</td>\n",
       "      <td>72</td>\n",
       "      <td>50</td>\n",
       "      <td>0</td>\n",
       "      <td>0.000000</td>\n",
       "    </tr>\n",
       "    <tr>\n",
       "      <th>6</th>\n",
       "      <td>8/30/83</td>\n",
       "      <td>6</td>\n",
       "      <td>73</td>\n",
       "      <td>100</td>\n",
       "      <td>0</td>\n",
       "      <td>0.000000</td>\n",
       "    </tr>\n",
       "    <tr>\n",
       "      <th>7</th>\n",
       "      <td>11/28/83</td>\n",
       "      <td>6</td>\n",
       "      <td>70</td>\n",
       "      <td>100</td>\n",
       "      <td>0</td>\n",
       "      <td>0.000000</td>\n",
       "    </tr>\n",
       "    <tr>\n",
       "      <th>8</th>\n",
       "      <td>2/03/84</td>\n",
       "      <td>6</td>\n",
       "      <td>57</td>\n",
       "      <td>200</td>\n",
       "      <td>1</td>\n",
       "      <td>0.166667</td>\n",
       "    </tr>\n",
       "    <tr>\n",
       "      <th>9</th>\n",
       "      <td>4/06/84</td>\n",
       "      <td>6</td>\n",
       "      <td>63</td>\n",
       "      <td>200</td>\n",
       "      <td>1</td>\n",
       "      <td>0.166667</td>\n",
       "    </tr>\n",
       "    <tr>\n",
       "      <th>10</th>\n",
       "      <td>8/30/84</td>\n",
       "      <td>6</td>\n",
       "      <td>70</td>\n",
       "      <td>200</td>\n",
       "      <td>1</td>\n",
       "      <td>0.166667</td>\n",
       "    </tr>\n",
       "    <tr>\n",
       "      <th>11</th>\n",
       "      <td>10/05/84</td>\n",
       "      <td>6</td>\n",
       "      <td>78</td>\n",
       "      <td>200</td>\n",
       "      <td>0</td>\n",
       "      <td>0.000000</td>\n",
       "    </tr>\n",
       "    <tr>\n",
       "      <th>12</th>\n",
       "      <td>11/08/84</td>\n",
       "      <td>6</td>\n",
       "      <td>67</td>\n",
       "      <td>200</td>\n",
       "      <td>0</td>\n",
       "      <td>0.000000</td>\n",
       "    </tr>\n",
       "    <tr>\n",
       "      <th>13</th>\n",
       "      <td>1/24/85</td>\n",
       "      <td>6</td>\n",
       "      <td>53</td>\n",
       "      <td>200</td>\n",
       "      <td>2</td>\n",
       "      <td>0.333333</td>\n",
       "    </tr>\n",
       "    <tr>\n",
       "      <th>14</th>\n",
       "      <td>4/12/85</td>\n",
       "      <td>6</td>\n",
       "      <td>67</td>\n",
       "      <td>200</td>\n",
       "      <td>0</td>\n",
       "      <td>0.000000</td>\n",
       "    </tr>\n",
       "    <tr>\n",
       "      <th>15</th>\n",
       "      <td>4/29/85</td>\n",
       "      <td>6</td>\n",
       "      <td>75</td>\n",
       "      <td>200</td>\n",
       "      <td>0</td>\n",
       "      <td>0.000000</td>\n",
       "    </tr>\n",
       "    <tr>\n",
       "      <th>16</th>\n",
       "      <td>6/17/85</td>\n",
       "      <td>6</td>\n",
       "      <td>70</td>\n",
       "      <td>200</td>\n",
       "      <td>0</td>\n",
       "      <td>0.000000</td>\n",
       "    </tr>\n",
       "    <tr>\n",
       "      <th>17</th>\n",
       "      <td>7/29/85</td>\n",
       "      <td>6</td>\n",
       "      <td>81</td>\n",
       "      <td>200</td>\n",
       "      <td>0</td>\n",
       "      <td>0.000000</td>\n",
       "    </tr>\n",
       "    <tr>\n",
       "      <th>18</th>\n",
       "      <td>8/27/85</td>\n",
       "      <td>6</td>\n",
       "      <td>76</td>\n",
       "      <td>200</td>\n",
       "      <td>0</td>\n",
       "      <td>0.000000</td>\n",
       "    </tr>\n",
       "    <tr>\n",
       "      <th>19</th>\n",
       "      <td>10/03/85</td>\n",
       "      <td>6</td>\n",
       "      <td>79</td>\n",
       "      <td>200</td>\n",
       "      <td>0</td>\n",
       "      <td>0.000000</td>\n",
       "    </tr>\n",
       "    <tr>\n",
       "      <th>20</th>\n",
       "      <td>10/30/85</td>\n",
       "      <td>6</td>\n",
       "      <td>75</td>\n",
       "      <td>200</td>\n",
       "      <td>2</td>\n",
       "      <td>0.333333</td>\n",
       "    </tr>\n",
       "    <tr>\n",
       "      <th>21</th>\n",
       "      <td>11/26/85</td>\n",
       "      <td>6</td>\n",
       "      <td>76</td>\n",
       "      <td>200</td>\n",
       "      <td>0</td>\n",
       "      <td>0.000000</td>\n",
       "    </tr>\n",
       "    <tr>\n",
       "      <th>22</th>\n",
       "      <td>1/12/86</td>\n",
       "      <td>6</td>\n",
       "      <td>58</td>\n",
       "      <td>200</td>\n",
       "      <td>1</td>\n",
       "      <td>0.166667</td>\n",
       "    </tr>\n",
       "  </tbody>\n",
       "</table>\n",
       "</div>"
      ],
      "text/plain": [
       "        Date  Count  Temperature  Pressure  Malfunction  Frequency\n",
       "0    4/12/81      6           66        50            0   0.000000\n",
       "1   11/12/81      6           70        50            1   0.166667\n",
       "2    3/22/82      6           69        50            0   0.000000\n",
       "3   11/11/82      6           68        50            0   0.000000\n",
       "4    4/04/83      6           67        50            0   0.000000\n",
       "5    6/18/82      6           72        50            0   0.000000\n",
       "6    8/30/83      6           73       100            0   0.000000\n",
       "7   11/28/83      6           70       100            0   0.000000\n",
       "8    2/03/84      6           57       200            1   0.166667\n",
       "9    4/06/84      6           63       200            1   0.166667\n",
       "10   8/30/84      6           70       200            1   0.166667\n",
       "11  10/05/84      6           78       200            0   0.000000\n",
       "12  11/08/84      6           67       200            0   0.000000\n",
       "13   1/24/85      6           53       200            2   0.333333\n",
       "14   4/12/85      6           67       200            0   0.000000\n",
       "15   4/29/85      6           75       200            0   0.000000\n",
       "16   6/17/85      6           70       200            0   0.000000\n",
       "17   7/29/85      6           81       200            0   0.000000\n",
       "18   8/27/85      6           76       200            0   0.000000\n",
       "19  10/03/85      6           79       200            0   0.000000\n",
       "20  10/30/85      6           75       200            2   0.333333\n",
       "21  11/26/85      6           76       200            0   0.000000\n",
       "22   1/12/86      6           58       200            1   0.166667"
      ]
     },
     "execution_count": 24,
     "metadata": {},
     "output_type": "execute_result"
    }
   ],
   "source": [
    "# Do not exclude flights without failure\n",
    "data[\"Frequency\"] = data.Malfunction / data.Count\n",
    "data"
   ]
  },
  {
   "cell_type": "markdown",
   "metadata": {},
   "source": [
    "Including all flights, including those without failures, provides a more complete view of the operating conditions of the O-rings. This avoids biasing the analysis by focusing only on malfunction cases and provides a better understanding of the conditions under which the seals operate properly."
   ]
  },
  {
   "cell_type": "markdown",
   "metadata": {},
   "source": [
    "#### Initial data visualization"
   ]
  },
  {
   "cell_type": "code",
   "execution_count": 25,
   "metadata": {},
   "outputs": [
    {
     "data": {
      "image/png": "[encoded data removed]",
      "text/plain": [
       "<Figure size 432x288 with 1 Axes>"
      ]
     },
     "metadata": {
      "needs_background": "light"
     },
     "output_type": "display_data"
    }
   ],
   "source": [
    "plt.scatter(data[\"Temperature\"], data[\"Frequency\"])\n",
    "plt.xlabel(\"Temperature (°F)\")\n",
    "plt.ylabel(\"Frequency of Failure\")\n",
    "plt.grid(True)\n",
    "plt.title(\"Relationship between temperature and failure frequency\")\n",
    "plt.show()"
   ]
  },
  {
   "cell_type": "markdown",
   "metadata": {},
   "source": [
    "This graph shows the relationship between flight temperature and failure frequency. Each point represents a flight and its associated temperature, with the failure frequency on the ordinate (vertical axis). This helps visualize whether there is a visible link between a drop in temperature and an increase in failures."
   ]
  },
  {
   "cell_type": "markdown",
   "metadata": {},
   "source": [
    "Although there is an apparent trend of increasing malfunctions at lower temperatures, this needs to be confirmed by a statistical model (logistic regression). The inclusion of all flights, including those without failures, is essential to obtain a complete picture of the relationship between temperature and malfunctions."
   ]
  },
  {
   "cell_type": "markdown",
   "metadata": {},
   "source": [
    "### Estimation of the influence of temperature\n",
    "This part of the code uses a logistic regression model to estimate the impact of temperature on the probability of O-ring failure. The model takes \"temperature\" as the explanatory (or predictive) variable and \"failure frequency\" as the dependent (or response) variable."
   ]
  },
  {
   "cell_type": "markdown",
   "metadata": {},
   "source": [
    "#### Logistic regression on the entire data set"
   ]
  },
  {
   "cell_type": "code",
   "execution_count": 26,
   "metadata": {},
   "outputs": [],
   "source": [
    "data[\"Intercept\"] = 1\n",
    "logmodel = sm.GLM(data['Frequency'], data[['Intercept', 'Temperature']], family=sm.families.Binomial(sm.families.links.logit())).fit()"
   ]
  },
  {
   "cell_type": "code",
   "execution_count": 27,
   "metadata": {},
   "outputs": [
    {
     "name": "stdout",
     "output_type": "stream",
     "text": [
      "                 Generalized Linear Model Regression Results                  \n",
      "==============================================================================\n",
      "Dep. Variable:              Frequency   No. Observations:                   23\n",
      "Model:                            GLM   Df Residuals:                       21\n",
      "Model Family:                Binomial   Df Model:                            1\n",
      "Link Function:                  logit   Scale:                          1.0000\n",
      "Method:                          IRLS   Log-Likelihood:                -3.9210\n",
      "Date:                Mon, 21 Oct 2024   Deviance:                       3.0144\n",
      "Time:                        09:32:40   Pearson chi2:                     5.00\n",
      "No. Iterations:                     6   Covariance Type:             nonrobust\n",
      "===============================================================================\n",
      "                  coef    std err          z      P>|z|      [0.025      0.975]\n",
      "-------------------------------------------------------------------------------\n",
      "Intercept       5.0850      7.477      0.680      0.496      -9.570      19.740\n",
      "Temperature    -0.1156      0.115     -1.004      0.316      -0.341       0.110\n",
      "===============================================================================\n"
     ]
    }
   ],
   "source": [
    "print(logmodel.summary())"
   ]
  },
  {
   "cell_type": "markdown",
   "metadata": {},
   "source": [
    "*Interpretation :*\n",
    "\n",
    "* Intercept Coefficient: 5.0850\n",
    "The intercept represents the predicted value of the failure frequency when the temperature is at 0°F. This is not very physically relevant, since temperatures in this setting are never that low, but the intercept is part of the model to fit the logistic curve.\n",
    "\n",
    "* Temperature Coefficient: -0.1156\n",
    "This negative coefficient indicates that as the temperature increases, the probability of failure decreases slightly. However, the effect is small and not significant.\n",
    "\n",
    "* Temperature P-value: 0.316\n",
    "With a p-value of 0.316 (greater than 0.05), this means that the effect of temperature on failure frequency is not statistically significant in this model. In other words, the analysis does not allow us to conclude that temperature has a significant effect on O-ring failures, probably due to the small sample size or the variability of the data.\n",
    "\n",
    "* Temperature confidence interval: [-0.341, 0.110]\n",
    "This interval contains 0, which confirms that the effect of temperature could be zero.\n",
    "\n",
    "*Conclusion :*\n",
    "The logistic regression model shows a trend suggesting that higher temperatures may reduce the probability of failure, but this relationship is not statistically significant in this case. It would be necessary to explore other variables or increase the sample size to obtain a more precise analysis."
   ]
  },
  {
   "cell_type": "markdown",
   "metadata": {},
   "source": [
    "### Estimation of the probability of O-ring malfunction"
   ]
  },
  {
   "cell_type": "markdown",
   "metadata": {},
   "source": [
    "#### Model predictions for a range of temperatures\n",
    "Here, predictions are generated for a temperature range from 30°F to 90°F. The model predicts the failure frequency for each of these temperatures, allowing us to see the predicted failure probability for extreme temperatures such as 31°F (the temperature on the day of the disaster)."
   ]
  },
  {
   "cell_type": "code",
   "execution_count": 28,
   "metadata": {},
   "outputs": [],
   "source": [
    "data_pred = pd.DataFrame({'Temperature': np.linspace(start=30, stop=90, num=121), 'Intercept': 1})\n",
    "data_pred['Frequency'] = logmodel.predict(data_pred[['Intercept', 'Temperature']])"
   ]
  },
  {
   "cell_type": "markdown",
   "metadata": {},
   "source": [
    "An increase in failure probability is expected for low temperatures, if the model is well fitted."
   ]
  },
  {
   "cell_type": "markdown",
   "metadata": {},
   "source": [
    "#### Visualization of predictions with confidence interval"
   ]
  },
  {
   "cell_type": "code",
   "execution_count": 29,
   "metadata": {},
   "outputs": [
    {
     "data": {
      "image/png": "[encoded data removed]",
      "text/plain": [
       "<Figure size 432x288 with 1 Axes>"
      ]
     },
     "metadata": {
      "needs_background": "light"
     },
     "output_type": "display_data"
    }
   ],
   "source": [
    "plt.plot(data_pred['Temperature'], data_pred['Frequency'], label='Predicted')\n",
    "plt.scatter(data[\"Temperature\"], data[\"Frequency\"], color='red', label='Observed')\n",
    "plt.xlabel(\"Temperature (°F)\")\n",
    "plt.ylabel(\"Predicted Frequency of Failure\")\n",
    "plt.legend()\n",
    "plt.grid(True)\n",
    "plt.title(\"Logistic regression model\")\n",
    "plt.show()"
   ]
  },
  {
   "cell_type": "markdown",
   "metadata": {},
   "source": [
    "#### Uncertainty of estimates (Confidence interval)"
   ]
  },
  {
   "cell_type": "code",
   "execution_count": 30,
   "metadata": {},
   "outputs": [
    {
     "name": "stdout",
     "output_type": "stream",
     "text": [
      "Confidence interval for parameters :\n",
      "                     0          1\n",
      "Intercept   -9.569730  19.739685\n",
      "Temperature -0.341358   0.110156\n"
     ]
    }
   ],
   "source": [
    "# Taking uncertainty into account\n",
    "# Added confidence interval representation\n",
    "conf = logmodel.conf_int()\n",
    "print(\"Confidence interval for parameters :\\n\", conf)"
   ]
  },
  {
   "cell_type": "markdown",
   "metadata": {},
   "source": [
    "*Interpretation :*\n",
    "\n",
    "* Intercept : [-9.5697, 19.7397]\n",
    "The confidence interval for the intercept is very wide, which means there is a large uncertainty about this estimate. This indicates that the data do not provide a precise estimate of the intercept.\n",
    "\n",
    "* Temperature : [-0.3414, 0.1102]\n",
    "The confidence interval for the temperature coefficient is also wide and includes zero. This means that the effect of temperature could be zero or even slightly positive or negative. In other words, one cannot conclude with certainty that temperature has a significant impact on the probability of failure.\n",
    "\n",
    "*Conclusion :* These confidence intervals reveal a large uncertainty in the model estimates. In particular, the temperature interval being wide and containing zero, this reinforces the fact that the effect of temperature on failures is not statistically significant in this analysis. This suggests that a model revision or additional data would be necessary to draw reliable conclusions."
   ]
  },
  {
   "cell_type": "markdown",
   "metadata": {},
   "source": [
    "## II. Second attempt of Improvement"
   ]
  },
  {
   "cell_type": "markdown",
   "metadata": {},
   "source": [
    "### Trying non-linear transformations\n",
    "Let's try adding a data transformation, for example by adding a quadratic variable \"*Temperature_squared* \" to the model to capture nonlinear effects:"
   ]
  },
  {
   "cell_type": "code",
   "execution_count": 31,
   "metadata": {},
   "outputs": [],
   "source": [
    "data[\"Temperature_squared\"] = data[\"Temperature\"] ** 2\n",
    "logmodel = sm.GLM(data['Frequency'], data[['Intercept', 'Temperature', 'Temperature_squared']], family=sm.families.Binomial(sm.families.links.logit())).fit()"
   ]
  },
  {
   "cell_type": "code",
   "execution_count": 32,
   "metadata": {},
   "outputs": [
    {
     "name": "stdout",
     "output_type": "stream",
     "text": [
      "                 Generalized Linear Model Regression Results                  \n",
      "==============================================================================\n",
      "Dep. Variable:              Frequency   No. Observations:                   23\n",
      "Model:                            GLM   Df Residuals:                       20\n",
      "Model Family:                Binomial   Df Model:                            2\n",
      "Link Function:                  logit   Scale:                          1.0000\n",
      "Method:                          IRLS   Log-Likelihood:                -3.8798\n",
      "Date:                Mon, 21 Oct 2024   Deviance:                       2.9319\n",
      "Time:                        09:32:48   Pearson chi2:                     4.48\n",
      "No. Iterations:                     6   Covariance Type:             nonrobust\n",
      "=======================================================================================\n",
      "                          coef    std err          z      P>|z|      [0.025      0.975]\n",
      "---------------------------------------------------------------------------------------\n",
      "Intercept              22.1261     58.284      0.380      0.704     -92.109     136.362\n",
      "Temperature            -0.6509      1.814     -0.359      0.720      -4.207       2.905\n",
      "Temperature_squared     0.0041      0.014      0.297      0.766      -0.023       0.031\n",
      "=======================================================================================\n"
     ]
    }
   ],
   "source": [
    "print(logmodel.summary())"
   ]
  },
  {
   "cell_type": "markdown",
   "metadata": {},
   "source": [
    "*Interpretation :*\n",
    "\n",
    "* Intercept: 22.1261\n",
    "The intercept is very high but its wide confidence interval and p-value (0.704) indicate that this estimate is extremely uncertain and not significant.\n",
    "\n",
    "* Temperature coefficient: -0.6509\n",
    "This coefficient remains negative, which would indicate that, overall, an increase in temperature could reduce the probability of failure. However, with a p-value of 0.720, this effect is not statistically significant. The very wide confidence interval ([-4.207, 2.905]) confirms this uncertainty.\n",
    "\n",
    "* Temperature_squared coefficient: 0.0041\n",
    "Adding this quadratic component allows us to test whether the relationship between temperature and the probability of failure is curved. However, this coefficient is very small and, with a p-value of 0.766, it is not significant either. The confidence interval includes zero ([-0.023, 0.031]), which means that the quadratic effect might not exist.\n",
    "\n",
    "*Conclusion :*\n",
    "\n",
    "* Adding a quadratic component did not improve the significance of the model. The coefficients of temperature and Temperature_squared are not statistically significant (p-values ​​are greater than 0.05), meaning that in this analysis there is no clear evidence that temperature has a significant effect on the probability of O-ring failure, either linearly or nonlinearly.\n",
    "\n",
    "* The wide confidence intervals and high p-values ​​indicate that there is a large uncertainty in the estimates. This could be due to the small sample size and the lack of data for very low temperatures, where the risk of failure could be higher."
   ]
  },
  {
   "cell_type": "markdown",
   "metadata": {},
   "source": [
    "### Exploring other explanatory variables\n",
    "We'll try to include additional variables that might influence the probability of o-ring failure, such as pressure. We will also leave out temperature and its quadratic transformation, and add pressure as a factor in the model."
   ]
  },
  {
   "cell_type": "code",
   "execution_count": 33,
   "metadata": {},
   "outputs": [
    {
     "name": "stdout",
     "output_type": "stream",
     "text": [
      "                 Generalized Linear Model Regression Results                  \n",
      "==============================================================================\n",
      "Dep. Variable:              Frequency   No. Observations:                   23\n",
      "Model:                            GLM   Df Residuals:                       19\n",
      "Model Family:                Binomial   Df Model:                            3\n",
      "Link Function:                  logit   Scale:                          1.0000\n",
      "Method:                          IRLS   Log-Likelihood:                -3.7883\n",
      "Date:                Mon, 21 Oct 2024   Deviance:                       2.7490\n",
      "Time:                        09:32:50   Pearson chi2:                     4.14\n",
      "No. Iterations:                     6   Covariance Type:             nonrobust\n",
      "=======================================================================================\n",
      "                          coef    std err          z      P>|z|      [0.025      0.975]\n",
      "---------------------------------------------------------------------------------------\n",
      "Intercept               8.4977     64.779      0.131      0.896    -118.467     135.462\n",
      "Temperature            -0.2808      1.962     -0.143      0.886      -4.126       3.564\n",
      "Temperature_squared     0.0014      0.015      0.093      0.926      -0.028       0.031\n",
      "Pressure                0.0079      0.020      0.396      0.692      -0.031       0.047\n",
      "=======================================================================================\n"
     ]
    }
   ],
   "source": [
    "# Adding a column for the quadratic term of temperature\n",
    "data[\"Temperature_squared\"] = data[\"Temperature\"] ** 2\n",
    "\n",
    "# Logistic regression model with temperature, quadratic temperature term, and pressure\n",
    "logmodel_extended = sm.GLM(data['Frequency'], \n",
    "                           data[['Intercept', 'Temperature', 'Temperature_squared', 'Pressure']], \n",
    "                           family=sm.families.Binomial(sm.families.links.logit())).fit()\n",
    "\n",
    "# Summary of results\n",
    "print(logmodel_extended.summary())"
   ]
  },
  {
   "cell_type": "markdown",
   "metadata": {},
   "source": [
    "*Interpretation :*\n",
    "\n",
    "* Intercept: 8.4977\n",
    "The intercept coefficient remains very high, but with a p-value of 0.896, it is not statistically significant. This indicates a large uncertainty in this estimate.\n",
    "\n",
    "* Temperature coefficient: -0.2808\n",
    "The temperature coefficient remains negative, but it is still insignificant with a p-value of 0.886. This means that there is still no clear evidence that temperature (as a linear variable) significantly affects the probability of o-ring failure.\n",
    "\n",
    "* Temperature_squared coefficient: 0.0014\n",
    "The addition of the quadratic component still does not seem significant, with a p-value of 0.926. This means that adding a nonlinear term for temperature did not improve the modeling of the temperature effect.\n",
    "\n",
    "* Pressure coefficient: 0.0079\n",
    "The coefficient for pressure is positive, which would indicate that in this model, a small increase in pressure could increase the probability of failure. However, the p-value is 0.692, which means that this effect is not statistically significant. The confidence interval ([-0.031, 0.047]) includes zero, which confirms that the effect of pressure is uncertain.\n",
    "\n",
    "*Conclusion :*\n",
    "\n",
    "* Neither temperature, nor its quadratic component, nor pressure are significant in this model. The high p-values ​​indicate that none of these variables has a clear effect on the probability of O-ring failure based on the current data.\n",
    "\n",
    "* Adding pressure did not reduce uncertainty in the model. The wide confidence intervals and high p-values ​​show that it is difficult to isolate a factor that significantly influences O-ring failures."
   ]
  }
 ],
 "metadata": {
  "kernelspec": {
   "display_name": "Python 3",
   "language": "python",
   "name": "python3"
  },
  "language_info": {
   "codemirror_mode": {
    "name": "ipython",
    "version": 3
   },
   "file_extension": ".py",
   "mimetype": "text/x-python",
   "name": "python",
   "nbconvert_exporter": "python",
   "pygments_lexer": "ipython3",
   "version": "3.6.4"
  }
 },
 "nbformat": 4,
 "nbformat_minor": 4
}
